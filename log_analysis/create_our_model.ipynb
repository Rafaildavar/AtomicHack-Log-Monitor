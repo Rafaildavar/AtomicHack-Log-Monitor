{
 "cells": [
  {
   "cell_type": "code",
   "id": "initial_id",
   "metadata": {
    "collapsed": true,
    "ExecuteTime": {
     "end_time": "2025-10-21T10:50:16.933332Z",
     "start_time": "2025-10-21T10:50:16.922102Z"
    }
   },
   "source": [
    "from sentence_transformers import SentenceTransformer, InputExample, losses, evaluation\n",
    "from torch.utils.data import DataLoader\n",
    "import pandas as pd\n",
    "import numpy as np\n",
    "from log_to_df import logs_to_dataframe\n",
    "from sklearn.model_selection import train_test_split"
   ],
   "outputs": [],
   "execution_count": 24
  },
  {
   "metadata": {
    "ExecuteTime": {
     "end_time": "2025-10-21T10:48:16.319965Z",
     "start_time": "2025-10-21T10:48:16.312193Z"
    }
   },
   "cell_type": "code",
   "source": [
    "# Загружаем данные\n",
    "df = pd.read_csv(\"../Test Cases/TestCase 1/anomalies_problems.csv\",sep=';')  # должно быть две колонки: \"Аномалия\" и \"Проблема\""
   ],
   "id": "2aeb01ea8ddd570a",
   "outputs": [],
   "execution_count": 20
  },
  {
   "metadata": {
    "ExecuteTime": {
     "end_time": "2025-10-21T10:48:20.127379Z",
     "start_time": "2025-10-21T10:48:20.084635Z"
    }
   },
   "cell_type": "code",
   "source": [
    "# Формируем положительные пары\n",
    "positive_pairs = [InputExample(texts=[row[\"Аномалия\"], row[\"Проблема\"]], label=1.0) for _, row in df.iterrows()]\n",
    "\n",
    "# Формируем отрицательные пары (аномалия + случайная проблема)\n",
    "negative_pairs = []\n",
    "for _, row in df.iterrows():\n",
    "    problem = np.random.choice(df[\"Проблема\"].values)\n",
    "    negative_pairs.append(InputExample(texts=[row[\"Аномалия\"], problem], label=0.0))"
   ],
   "id": "3c89ba8596d22306",
   "outputs": [],
   "execution_count": 22
  },
  {
   "metadata": {
    "ExecuteTime": {
     "end_time": "2025-10-21T10:50:04.771253Z",
     "start_time": "2025-10-21T10:48:21.784673Z"
    }
   },
   "cell_type": "code",
   "source": [
    "# Объединяем\n",
    "train_examples = positive_pairs + negative_pairs\n",
    "train_data, val_data = train_test_split(train_examples, test_size=0.1, random_state=42)\n",
    "\n",
    "# Загружаем модель\n",
    "model = SentenceTransformer(\"sentence-transformers/all-MiniLM-L6-v2\")\n",
    "\n",
    "# Настраиваем обучение\n",
    "train_dataloader = DataLoader(train_data, shuffle=True, batch_size=16)\n",
    "train_loss = losses.CosineSimilarityLoss(model)\n",
    "\n",
    "# Обучаем\n",
    "model.fit(\n",
    "    train_objectives=[(train_dataloader, train_loss)],\n",
    "    epochs=3,\n",
    "    show_progress_bar=True\n",
    ")\n",
    "\n",
    "# Сохраняем модель\n",
    "model.save(\"anomaly_problem_matcher\")"
   ],
   "id": "a19825aaa150882",
   "outputs": [
    {
     "name": "stderr",
     "output_type": "stream",
     "text": [
      "D:\\AtomicHack-Log-Monitor\\venv\\Lib\\site-packages\\torch\\utils\\data\\dataloader.py:666: UserWarning: 'pin_memory' argument is set as true but no accelerator is found, then device pinned memory won't be used.\n",
      "  warnings.warn(warn_msg)\n"
     ]
    },
    {
     "data": {
      "text/plain": [
       "<IPython.core.display.HTML object>"
      ],
      "text/html": [
       "\n",
       "    <div>\n",
       "      \n",
       "      <progress value='171' max='171' style='width:300px; height:20px; vertical-align: middle;'></progress>\n",
       "      [171/171 01:37, Epoch 3/3]\n",
       "    </div>\n",
       "    <table border=\"1\" class=\"dataframe\">\n",
       "  <thead>\n",
       " <tr style=\"text-align: left;\">\n",
       "      <th>Step</th>\n",
       "      <th>Training Loss</th>\n",
       "    </tr>\n",
       "  </thead>\n",
       "  <tbody>\n",
       "  </tbody>\n",
       "</table><p>"
      ]
     },
     "metadata": {},
     "output_type": "display_data"
    }
   ],
   "execution_count": 23
  },
  {
   "metadata": {
    "ExecuteTime": {
     "end_time": "2025-10-21T10:50:23.552632Z",
     "start_time": "2025-10-21T10:50:23.226233Z"
    }
   },
   "cell_type": "code",
   "source": [
    "VC3 = logs_to_dataframe('../Validation_Cases/ValidationCase_3')\n",
    "VC3.head(10)"
   ],
   "id": "26df506feb4abf83",
   "outputs": [
    {
     "data": {
      "text/plain": [
       "              datetime    level   source                              text  \\\n",
       "0  2025-10-06T00:24:39  WARNING  network  Performance degradation detected   \n",
       "1  2025-10-06T08:59:32    ERROR       os            Host overheating alert   \n",
       "2  2025-10-06T08:36:41  WARNING       os         Overheating alert in host   \n",
       "3  2025-10-06T09:16:28  WARNING       os         Overheating alert in host   \n",
       "4  2025-10-06T08:51:26  WARNING  network  Slow virtual network performance   \n",
       "5  2025-10-06T02:25:21  WARNING  network      User-facing VM network issue   \n",
       "6  2025-10-06T11:41:12    ERROR  network  Virtual network misconfiguration   \n",
       "\n",
       "                filename  line_number  \n",
       "0    app_server1_log.txt         1480  \n",
       "1    app_server1_log.txt        32373  \n",
       "2    app_server2_log.txt        31002  \n",
       "3    app_server2_log.txt        33389  \n",
       "4  backup_server_log.txt        31887  \n",
       "5       firewall_log.txt         8722  \n",
       "6        switch1_log.txt        42073  "
      ],
      "text/html": [
       "<div>\n",
       "<style scoped>\n",
       "    .dataframe tbody tr th:only-of-type {\n",
       "        vertical-align: middle;\n",
       "    }\n",
       "\n",
       "    .dataframe tbody tr th {\n",
       "        vertical-align: top;\n",
       "    }\n",
       "\n",
       "    .dataframe thead th {\n",
       "        text-align: right;\n",
       "    }\n",
       "</style>\n",
       "<table border=\"1\" class=\"dataframe\">\n",
       "  <thead>\n",
       "    <tr style=\"text-align: right;\">\n",
       "      <th></th>\n",
       "      <th>datetime</th>\n",
       "      <th>level</th>\n",
       "      <th>source</th>\n",
       "      <th>text</th>\n",
       "      <th>filename</th>\n",
       "      <th>line_number</th>\n",
       "    </tr>\n",
       "  </thead>\n",
       "  <tbody>\n",
       "    <tr>\n",
       "      <th>0</th>\n",
       "      <td>2025-10-06T00:24:39</td>\n",
       "      <td>WARNING</td>\n",
       "      <td>network</td>\n",
       "      <td>Performance degradation detected</td>\n",
       "      <td>app_server1_log.txt</td>\n",
       "      <td>1480</td>\n",
       "    </tr>\n",
       "    <tr>\n",
       "      <th>1</th>\n",
       "      <td>2025-10-06T08:59:32</td>\n",
       "      <td>ERROR</td>\n",
       "      <td>os</td>\n",
       "      <td>Host overheating alert</td>\n",
       "      <td>app_server1_log.txt</td>\n",
       "      <td>32373</td>\n",
       "    </tr>\n",
       "    <tr>\n",
       "      <th>2</th>\n",
       "      <td>2025-10-06T08:36:41</td>\n",
       "      <td>WARNING</td>\n",
       "      <td>os</td>\n",
       "      <td>Overheating alert in host</td>\n",
       "      <td>app_server2_log.txt</td>\n",
       "      <td>31002</td>\n",
       "    </tr>\n",
       "    <tr>\n",
       "      <th>3</th>\n",
       "      <td>2025-10-06T09:16:28</td>\n",
       "      <td>WARNING</td>\n",
       "      <td>os</td>\n",
       "      <td>Overheating alert in host</td>\n",
       "      <td>app_server2_log.txt</td>\n",
       "      <td>33389</td>\n",
       "    </tr>\n",
       "    <tr>\n",
       "      <th>4</th>\n",
       "      <td>2025-10-06T08:51:26</td>\n",
       "      <td>WARNING</td>\n",
       "      <td>network</td>\n",
       "      <td>Slow virtual network performance</td>\n",
       "      <td>backup_server_log.txt</td>\n",
       "      <td>31887</td>\n",
       "    </tr>\n",
       "    <tr>\n",
       "      <th>5</th>\n",
       "      <td>2025-10-06T02:25:21</td>\n",
       "      <td>WARNING</td>\n",
       "      <td>network</td>\n",
       "      <td>User-facing VM network issue</td>\n",
       "      <td>firewall_log.txt</td>\n",
       "      <td>8722</td>\n",
       "    </tr>\n",
       "    <tr>\n",
       "      <th>6</th>\n",
       "      <td>2025-10-06T11:41:12</td>\n",
       "      <td>ERROR</td>\n",
       "      <td>network</td>\n",
       "      <td>Virtual network misconfiguration</td>\n",
       "      <td>switch1_log.txt</td>\n",
       "      <td>42073</td>\n",
       "    </tr>\n",
       "  </tbody>\n",
       "</table>\n",
       "</div>"
      ]
     },
     "execution_count": 25,
     "metadata": {},
     "output_type": "execute_result"
    }
   ],
   "execution_count": 25
  },
  {
   "metadata": {
    "ExecuteTime": {
     "end_time": "2025-10-21T10:56:06.998333Z",
     "start_time": "2025-10-21T10:56:06.992560Z"
    }
   },
   "cell_type": "code",
   "source": [
    "anomaly = []\n",
    "problems = []\n",
    "for index, row in VC3.iterrows():\n",
    "    if row.level == 'WARNING':\n",
    "        anomaly.append(row.text)\n",
    "    elif row.level == 'ERROR':\n",
    "        problems.append(row.text)\n",
    "\n",
    "print(anomaly)\n",
    "print(problems)"
   ],
   "id": "1b45880aa75aa6d4",
   "outputs": [
    {
     "name": "stdout",
     "output_type": "stream",
     "text": [
      "['Performance degradation detected', 'Overheating alert in host', 'Overheating alert in host', 'Slow virtual network performance', 'User-facing VM network issue']\n",
      "['Host overheating alert', 'Virtual network misconfiguration']\n"
     ]
    }
   ],
   "execution_count": 32
  },
  {
   "metadata": {
    "ExecuteTime": {
     "end_time": "2025-10-21T10:56:20.255625Z",
     "start_time": "2025-10-21T10:56:19.441689Z"
    }
   },
   "cell_type": "code",
   "source": [
    "from sentence_transformers import SentenceTransformer, util\n",
    "import numpy as np\n",
    "\n",
    "model = SentenceTransformer(\"anomaly_problem_matcher\")\n",
    "\n",
    "# Считаем сходство\n",
    "emb_anomaly = model.encode(anomaly[0], convert_to_tensor=True)\n",
    "emb_problems = model.encode(problems, convert_to_tensor=True)\n",
    "cosine_scores = util.cos_sim(emb_anomaly, emb_problems)[0]\n",
    "\n",
    "# Находим наиболее похожую проблему\n",
    "best_idx = np.argmax(cosine_scores)\n",
    "print(f\"Наиболее вероятная проблема: {problems[best_idx]}\")\n",
    "print(f\"Сходство: {cosine_scores[best_idx].item():.4f}\")\n"
   ],
   "id": "9bafda02a03b38df",
   "outputs": [
    {
     "name": "stdout",
     "output_type": "stream",
     "text": [
      "Наиболее вероятная проблема: Host overheating alert\n",
      "Сходство: 0.3144\n"
     ]
    },
    {
     "name": "stderr",
     "output_type": "stream",
     "text": [
      "D:\\AtomicHack-Log-Monitor\\venv\\Lib\\site-packages\\numpy\\_core\\fromnumeric.py:48: DeprecationWarning: __array_wrap__ must accept context and return_scalar arguments (positionally) in the future. (Deprecated NumPy 2.0)\n",
      "  return conv.wrap(result, to_scalar=False)\n"
     ]
    }
   ],
   "execution_count": 33
  }
 ],
 "metadata": {
  "kernelspec": {
   "display_name": "Python 3",
   "language": "python",
   "name": "python3"
  },
  "language_info": {
   "codemirror_mode": {
    "name": "ipython",
    "version": 2
   },
   "file_extension": ".py",
   "mimetype": "text/x-python",
   "name": "python",
   "nbconvert_exporter": "python",
   "pygments_lexer": "ipython2",
   "version": "2.7.6"
  }
 },
 "nbformat": 4,
 "nbformat_minor": 5
}
