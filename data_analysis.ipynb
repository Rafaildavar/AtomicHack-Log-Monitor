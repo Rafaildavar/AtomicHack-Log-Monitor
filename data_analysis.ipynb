{
 "cells": [
  {
   "cell_type": "code",
   "id": "initial_id",
   "metadata": {
    "collapsed": true,
    "ExecuteTime": {
     "end_time": "2025-10-09T18:48:03.884696Z",
     "start_time": "2025-10-09T18:47:57.485824Z"
    }
   },
   "source": [
    "import pandas as pd\n",
    "from result_df import find_anomaly_problem_chain\n",
    "from log_to_df import logs_to_dataframe"
   ],
   "outputs": [],
   "execution_count": 1
  },
  {
   "metadata": {
    "ExecuteTime": {
     "end_time": "2025-10-09T18:48:05.824400Z",
     "start_time": "2025-10-09T18:48:05.803415Z"
    }
   },
   "cell_type": "code",
   "source": "anomalies_problems = pd.read_csv('Validation Cases/ValidationCase 2/anomalies_problems.csv', sep=';')",
   "id": "f9a6f9efeccef628",
   "outputs": [],
   "execution_count": 2
  },
  {
   "metadata": {
    "ExecuteTime": {
     "end_time": "2025-10-09T18:48:07.191370Z",
     "start_time": "2025-10-09T18:48:07.181855Z"
    }
   },
   "cell_type": "code",
   "source": "anomalies_problems.columns",
   "id": "5e08e05c4650be4c",
   "outputs": [
    {
     "data": {
      "text/plain": [
       "Index(['ID аномалии', 'Аномалия', 'ID проблемы', 'Проблема'], dtype='object')"
      ]
     },
     "execution_count": 3,
     "metadata": {},
     "output_type": "execute_result"
    }
   ],
   "execution_count": 3
  },
  {
   "metadata": {
    "ExecuteTime": {
     "end_time": "2025-10-09T18:48:08.339326Z",
     "start_time": "2025-10-09T18:48:08.300399Z"
    }
   },
   "cell_type": "code",
   "source": "anomalies_problems",
   "id": "8f4527eec5e8f671",
   "outputs": [
    {
     "data": {
      "text/plain": [
       "     ID аномалии                      Аномалия  ID проблемы  \\\n",
       "0              1         ata1: COMRESET failed            1   \n",
       "1              2           RAID array degraded            1   \n",
       "2              3             RAID disk offline            1   \n",
       "3              4            ata1: read timeout            1   \n",
       "4              5           Disk status unknown            1   \n",
       "..           ...                           ...          ...   \n",
       "495          400      Snapshot timeout warning           50   \n",
       "496          401  System hang on snapshot task           50   \n",
       "497          402      Snapshot restore failure           50   \n",
       "498          489   Data integrity check failed           50   \n",
       "499          490     Process hung in execution           50   \n",
       "\n",
       "                                    Проблема  \n",
       "0    RAID controller firmware fault detected  \n",
       "1    RAID controller firmware fault detected  \n",
       "2    RAID controller firmware fault detected  \n",
       "3    RAID controller firmware fault detected  \n",
       "4    RAID controller firmware fault detected  \n",
       "..                                       ...  \n",
       "495                Snapshot operation failed  \n",
       "496                Snapshot operation failed  \n",
       "497                Snapshot operation failed  \n",
       "498                Snapshot operation failed  \n",
       "499                Snapshot operation failed  \n",
       "\n",
       "[500 rows x 4 columns]"
      ],
      "text/html": [
       "<div>\n",
       "<style scoped>\n",
       "    .dataframe tbody tr th:only-of-type {\n",
       "        vertical-align: middle;\n",
       "    }\n",
       "\n",
       "    .dataframe tbody tr th {\n",
       "        vertical-align: top;\n",
       "    }\n",
       "\n",
       "    .dataframe thead th {\n",
       "        text-align: right;\n",
       "    }\n",
       "</style>\n",
       "<table border=\"1\" class=\"dataframe\">\n",
       "  <thead>\n",
       "    <tr style=\"text-align: right;\">\n",
       "      <th></th>\n",
       "      <th>ID аномалии</th>\n",
       "      <th>Аномалия</th>\n",
       "      <th>ID проблемы</th>\n",
       "      <th>Проблема</th>\n",
       "    </tr>\n",
       "  </thead>\n",
       "  <tbody>\n",
       "    <tr>\n",
       "      <th>0</th>\n",
       "      <td>1</td>\n",
       "      <td>ata1: COMRESET failed</td>\n",
       "      <td>1</td>\n",
       "      <td>RAID controller firmware fault detected</td>\n",
       "    </tr>\n",
       "    <tr>\n",
       "      <th>1</th>\n",
       "      <td>2</td>\n",
       "      <td>RAID array degraded</td>\n",
       "      <td>1</td>\n",
       "      <td>RAID controller firmware fault detected</td>\n",
       "    </tr>\n",
       "    <tr>\n",
       "      <th>2</th>\n",
       "      <td>3</td>\n",
       "      <td>RAID disk offline</td>\n",
       "      <td>1</td>\n",
       "      <td>RAID controller firmware fault detected</td>\n",
       "    </tr>\n",
       "    <tr>\n",
       "      <th>3</th>\n",
       "      <td>4</td>\n",
       "      <td>ata1: read timeout</td>\n",
       "      <td>1</td>\n",
       "      <td>RAID controller firmware fault detected</td>\n",
       "    </tr>\n",
       "    <tr>\n",
       "      <th>4</th>\n",
       "      <td>5</td>\n",
       "      <td>Disk status unknown</td>\n",
       "      <td>1</td>\n",
       "      <td>RAID controller firmware fault detected</td>\n",
       "    </tr>\n",
       "    <tr>\n",
       "      <th>...</th>\n",
       "      <td>...</td>\n",
       "      <td>...</td>\n",
       "      <td>...</td>\n",
       "      <td>...</td>\n",
       "    </tr>\n",
       "    <tr>\n",
       "      <th>495</th>\n",
       "      <td>400</td>\n",
       "      <td>Snapshot timeout warning</td>\n",
       "      <td>50</td>\n",
       "      <td>Snapshot operation failed</td>\n",
       "    </tr>\n",
       "    <tr>\n",
       "      <th>496</th>\n",
       "      <td>401</td>\n",
       "      <td>System hang on snapshot task</td>\n",
       "      <td>50</td>\n",
       "      <td>Snapshot operation failed</td>\n",
       "    </tr>\n",
       "    <tr>\n",
       "      <th>497</th>\n",
       "      <td>402</td>\n",
       "      <td>Snapshot restore failure</td>\n",
       "      <td>50</td>\n",
       "      <td>Snapshot operation failed</td>\n",
       "    </tr>\n",
       "    <tr>\n",
       "      <th>498</th>\n",
       "      <td>489</td>\n",
       "      <td>Data integrity check failed</td>\n",
       "      <td>50</td>\n",
       "      <td>Snapshot operation failed</td>\n",
       "    </tr>\n",
       "    <tr>\n",
       "      <th>499</th>\n",
       "      <td>490</td>\n",
       "      <td>Process hung in execution</td>\n",
       "      <td>50</td>\n",
       "      <td>Snapshot operation failed</td>\n",
       "    </tr>\n",
       "  </tbody>\n",
       "</table>\n",
       "<p>500 rows × 4 columns</p>\n",
       "</div>"
      ]
     },
     "execution_count": 4,
     "metadata": {},
     "output_type": "execute_result"
    }
   ],
   "execution_count": 4
  },
  {
   "metadata": {
    "ExecuteTime": {
     "end_time": "2025-10-09T18:48:10.918911Z",
     "start_time": "2025-10-09T18:48:10.605782Z"
    }
   },
   "cell_type": "code",
   "source": "VC2 = logs_to_dataframe('Validation Cases/ValidationCase 2')",
   "id": "4a436e950148cab9",
   "outputs": [],
   "execution_count": 5
  },
  {
   "metadata": {
    "ExecuteTime": {
     "end_time": "2025-10-09T18:48:11.690665Z",
     "start_time": "2025-10-09T18:48:11.678944Z"
    }
   },
   "cell_type": "code",
   "source": "VC2",
   "id": "d83fcc30f8196171",
   "outputs": [
    {
     "data": {
      "text/plain": [
       "              datetime    level    source                         text  \\\n",
       "0  2025-10-06T01:55:34  WARNING  database  Slow query from index issue   \n",
       "1  2025-10-06T05:44:04  WARNING  database        Query timeout warning   \n",
       "2  2025-10-06T05:09:49  WARNING  database   Application crash on index   \n",
       "3  2025-10-06T07:42:23    ERROR  database    Index corruption on table   \n",
       "\n",
       "                 filename  line_number  \n",
       "0   backup_server_log.txt         6935  \n",
       "1          router_log.txt        20645  \n",
       "2  storage_system_log.txt        18590  \n",
       "3      web_server_log.txt        27744  "
      ],
      "text/html": [
       "<div>\n",
       "<style scoped>\n",
       "    .dataframe tbody tr th:only-of-type {\n",
       "        vertical-align: middle;\n",
       "    }\n",
       "\n",
       "    .dataframe tbody tr th {\n",
       "        vertical-align: top;\n",
       "    }\n",
       "\n",
       "    .dataframe thead th {\n",
       "        text-align: right;\n",
       "    }\n",
       "</style>\n",
       "<table border=\"1\" class=\"dataframe\">\n",
       "  <thead>\n",
       "    <tr style=\"text-align: right;\">\n",
       "      <th></th>\n",
       "      <th>datetime</th>\n",
       "      <th>level</th>\n",
       "      <th>source</th>\n",
       "      <th>text</th>\n",
       "      <th>filename</th>\n",
       "      <th>line_number</th>\n",
       "    </tr>\n",
       "  </thead>\n",
       "  <tbody>\n",
       "    <tr>\n",
       "      <th>0</th>\n",
       "      <td>2025-10-06T01:55:34</td>\n",
       "      <td>WARNING</td>\n",
       "      <td>database</td>\n",
       "      <td>Slow query from index issue</td>\n",
       "      <td>backup_server_log.txt</td>\n",
       "      <td>6935</td>\n",
       "    </tr>\n",
       "    <tr>\n",
       "      <th>1</th>\n",
       "      <td>2025-10-06T05:44:04</td>\n",
       "      <td>WARNING</td>\n",
       "      <td>database</td>\n",
       "      <td>Query timeout warning</td>\n",
       "      <td>router_log.txt</td>\n",
       "      <td>20645</td>\n",
       "    </tr>\n",
       "    <tr>\n",
       "      <th>2</th>\n",
       "      <td>2025-10-06T05:09:49</td>\n",
       "      <td>WARNING</td>\n",
       "      <td>database</td>\n",
       "      <td>Application crash on index</td>\n",
       "      <td>storage_system_log.txt</td>\n",
       "      <td>18590</td>\n",
       "    </tr>\n",
       "    <tr>\n",
       "      <th>3</th>\n",
       "      <td>2025-10-06T07:42:23</td>\n",
       "      <td>ERROR</td>\n",
       "      <td>database</td>\n",
       "      <td>Index corruption on table</td>\n",
       "      <td>web_server_log.txt</td>\n",
       "      <td>27744</td>\n",
       "    </tr>\n",
       "  </tbody>\n",
       "</table>\n",
       "</div>"
      ]
     },
     "execution_count": 6,
     "metadata": {},
     "output_type": "execute_result"
    }
   ],
   "execution_count": 6
  },
  {
   "metadata": {
    "ExecuteTime": {
     "end_time": "2025-10-09T18:48:13.449019Z",
     "start_time": "2025-10-09T18:48:13.441607Z"
    }
   },
   "cell_type": "code",
   "source": "ap = anomalies_problems[anomalies_problems['Аномалия']==VC2[:1].text.values[0]]",
   "id": "153085b710c6b9c0",
   "outputs": [],
   "execution_count": 7
  },
  {
   "metadata": {
    "ExecuteTime": {
     "end_time": "2025-10-09T18:48:14.698903Z",
     "start_time": "2025-10-09T18:48:14.688223Z"
    }
   },
   "cell_type": "code",
   "source": "ap",
   "id": "6742112aeb90392e",
   "outputs": [
    {
     "data": {
      "text/plain": [
       "     ID аномалии                     Аномалия  ID проблемы  \\\n",
       "330          267  Slow query from index issue           34   \n",
       "\n",
       "                      Проблема  \n",
       "330  Index corruption on table  "
      ],
      "text/html": [
       "<div>\n",
       "<style scoped>\n",
       "    .dataframe tbody tr th:only-of-type {\n",
       "        vertical-align: middle;\n",
       "    }\n",
       "\n",
       "    .dataframe tbody tr th {\n",
       "        vertical-align: top;\n",
       "    }\n",
       "\n",
       "    .dataframe thead th {\n",
       "        text-align: right;\n",
       "    }\n",
       "</style>\n",
       "<table border=\"1\" class=\"dataframe\">\n",
       "  <thead>\n",
       "    <tr style=\"text-align: right;\">\n",
       "      <th></th>\n",
       "      <th>ID аномалии</th>\n",
       "      <th>Аномалия</th>\n",
       "      <th>ID проблемы</th>\n",
       "      <th>Проблема</th>\n",
       "    </tr>\n",
       "  </thead>\n",
       "  <tbody>\n",
       "    <tr>\n",
       "      <th>330</th>\n",
       "      <td>267</td>\n",
       "      <td>Slow query from index issue</td>\n",
       "      <td>34</td>\n",
       "      <td>Index corruption on table</td>\n",
       "    </tr>\n",
       "  </tbody>\n",
       "</table>\n",
       "</div>"
      ]
     },
     "execution_count": 8,
     "metadata": {},
     "output_type": "execute_result"
    }
   ],
   "execution_count": 8
  },
  {
   "metadata": {
    "ExecuteTime": {
     "end_time": "2025-10-09T18:48:16.098402Z",
     "start_time": "2025-10-09T18:48:16.080445Z"
    }
   },
   "cell_type": "code",
   "source": "VC2[VC2['text']==ap['Проблема'].values[0]]",
   "id": "9f4d5b1e207d1918",
   "outputs": [
    {
     "data": {
      "text/plain": [
       "              datetime  level    source                       text  \\\n",
       "3  2025-10-06T07:42:23  ERROR  database  Index corruption on table   \n",
       "\n",
       "             filename  line_number  \n",
       "3  web_server_log.txt        27744  "
      ],
      "text/html": [
       "<div>\n",
       "<style scoped>\n",
       "    .dataframe tbody tr th:only-of-type {\n",
       "        vertical-align: middle;\n",
       "    }\n",
       "\n",
       "    .dataframe tbody tr th {\n",
       "        vertical-align: top;\n",
       "    }\n",
       "\n",
       "    .dataframe thead th {\n",
       "        text-align: right;\n",
       "    }\n",
       "</style>\n",
       "<table border=\"1\" class=\"dataframe\">\n",
       "  <thead>\n",
       "    <tr style=\"text-align: right;\">\n",
       "      <th></th>\n",
       "      <th>datetime</th>\n",
       "      <th>level</th>\n",
       "      <th>source</th>\n",
       "      <th>text</th>\n",
       "      <th>filename</th>\n",
       "      <th>line_number</th>\n",
       "    </tr>\n",
       "  </thead>\n",
       "  <tbody>\n",
       "    <tr>\n",
       "      <th>3</th>\n",
       "      <td>2025-10-06T07:42:23</td>\n",
       "      <td>ERROR</td>\n",
       "      <td>database</td>\n",
       "      <td>Index corruption on table</td>\n",
       "      <td>web_server_log.txt</td>\n",
       "      <td>27744</td>\n",
       "    </tr>\n",
       "  </tbody>\n",
       "</table>\n",
       "</div>"
      ]
     },
     "execution_count": 9,
     "metadata": {},
     "output_type": "execute_result"
    }
   ],
   "execution_count": 9
  },
  {
   "metadata": {
    "ExecuteTime": {
     "end_time": "2025-10-09T18:48:17.796593Z",
     "start_time": "2025-10-09T18:48:17.783907Z"
    }
   },
   "cell_type": "code",
   "source": [
    "\n",
    "\n",
    "# Использование\n",
    "result_df = find_anomaly_problem_chain(VC2, anomalies_problems)\n"
   ],
   "id": "867f7e6ffcc82547",
   "outputs": [],
   "execution_count": 10
  },
  {
   "metadata": {
    "ExecuteTime": {
     "end_time": "2025-10-09T18:48:18.970852Z",
     "start_time": "2025-10-09T18:48:18.957127Z"
    }
   },
   "cell_type": "code",
   "source": "result_df",
   "id": "a149b937bad8f85",
   "outputs": [
    {
     "data": {
      "text/plain": [
       "   ID аномалии  ID проблемы    Файл с проблемой  № строки  \\\n",
       "0          267           34  web_server_log.txt     27744   \n",
       "1          271           34  web_server_log.txt     27744   \n",
       "2          274           34  web_server_log.txt     27744   \n",
       "\n",
       "              Строка из лога  \n",
       "0  Index corruption on table  \n",
       "1  Index corruption on table  \n",
       "2  Index corruption on table  "
      ],
      "text/html": [
       "<div>\n",
       "<style scoped>\n",
       "    .dataframe tbody tr th:only-of-type {\n",
       "        vertical-align: middle;\n",
       "    }\n",
       "\n",
       "    .dataframe tbody tr th {\n",
       "        vertical-align: top;\n",
       "    }\n",
       "\n",
       "    .dataframe thead th {\n",
       "        text-align: right;\n",
       "    }\n",
       "</style>\n",
       "<table border=\"1\" class=\"dataframe\">\n",
       "  <thead>\n",
       "    <tr style=\"text-align: right;\">\n",
       "      <th></th>\n",
       "      <th>ID аномалии</th>\n",
       "      <th>ID проблемы</th>\n",
       "      <th>Файл с проблемой</th>\n",
       "      <th>№ строки</th>\n",
       "      <th>Строка из лога</th>\n",
       "    </tr>\n",
       "  </thead>\n",
       "  <tbody>\n",
       "    <tr>\n",
       "      <th>0</th>\n",
       "      <td>267</td>\n",
       "      <td>34</td>\n",
       "      <td>web_server_log.txt</td>\n",
       "      <td>27744</td>\n",
       "      <td>Index corruption on table</td>\n",
       "    </tr>\n",
       "    <tr>\n",
       "      <th>1</th>\n",
       "      <td>271</td>\n",
       "      <td>34</td>\n",
       "      <td>web_server_log.txt</td>\n",
       "      <td>27744</td>\n",
       "      <td>Index corruption on table</td>\n",
       "    </tr>\n",
       "    <tr>\n",
       "      <th>2</th>\n",
       "      <td>274</td>\n",
       "      <td>34</td>\n",
       "      <td>web_server_log.txt</td>\n",
       "      <td>27744</td>\n",
       "      <td>Index corruption on table</td>\n",
       "    </tr>\n",
       "  </tbody>\n",
       "</table>\n",
       "</div>"
      ]
     },
     "execution_count": 11,
     "metadata": {},
     "output_type": "execute_result"
    }
   ],
   "execution_count": 11
  }
 ],
 "metadata": {
  "kernelspec": {
   "display_name": "Python 3",
   "language": "python",
   "name": "python3"
  },
  "language_info": {
   "codemirror_mode": {
    "name": "ipython",
    "version": 2
   },
   "file_extension": ".py",
   "mimetype": "text/x-python",
   "name": "python",
   "nbconvert_exporter": "python",
   "pygments_lexer": "ipython2",
   "version": "2.7.6"
  }
 },
 "nbformat": 4,
 "nbformat_minor": 5
}
